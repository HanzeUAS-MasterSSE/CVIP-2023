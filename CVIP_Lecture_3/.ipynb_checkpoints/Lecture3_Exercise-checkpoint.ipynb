{
 "cells": [
  {
   "cell_type": "markdown",
   "id": "52cae88a",
   "metadata": {},
   "source": [
    "# The case of the not-so-magical green beans\n",
    "In the (insert-single-digit-number-here)th century, there lived a King called Redtooth who only consumed green candy.\n",
    "One day, Jack's half-spanish cousin Jack (with a J that sounds like an H), and his roving band of miscreants stole the king's candy, mistaking it for magic beans. They divided the candy among themselves and parted ways.\n",
    "![Bean Stalk](images/jack_and_the_beanstalk.png)\n",
    "\n",
    "The king has tasked his most trusted warrior, the Green Knight to find and recover his green candy.\n",
    "![Green Knight](images/green_knight.jpg)\n",
    "\n",
    "Unfortunately, like the guy who designed his movie poster, the Green Knight is colourblind. If this trait were known, his secret (of being a royal bastard) would get out, and one of the princes would likely have him executed in order to ensure he's never a threat to their claim of the throne.\n",
    "\n",
    "The Knight has enlisted the help of the royal wizard, you (coz how else would you explain having a computer in such ancient times) to help differentiate the green candy from the rest. The Knight is also from a lower class (farming peasant) and hence did not learn how to count. The wizard's algorithm will therefore also have to count the recovered green candy to make sure it's all there. \n",
    "\n",
    "On his journey, the Knight has found the batches of the stolen candy. After several hours, he has beamed what he \"captured\" over the magical obsidian box you gave him. The images are stored as smarties1 to smarties7.\n",
    "\n",
    "You could count the candy for him manually, but you have other duties to attend to, and do not want to arouse suspicion. It is therefore better to automate the task, so future \"captures\" do not require your attention.\n",
    "\n",
    "Can you develop an algorithm that will help out the Green Knight?\n",
    "\n"
   ]
  },
  {
   "cell_type": "code",
   "execution_count": null,
   "id": "6030064a",
   "metadata": {},
   "outputs": [],
   "source": []
  }
 ],
 "metadata": {
  "kernelspec": {
   "display_name": "CVIP2022",
   "language": "python",
   "name": "cvip2022"
  },
  "language_info": {
   "codemirror_mode": {
    "name": "ipython",
    "version": 3
   },
   "file_extension": ".py",
   "mimetype": "text/x-python",
   "name": "python",
   "nbconvert_exporter": "python",
   "pygments_lexer": "ipython3",
   "version": "3.8.12"
  }
 },
 "nbformat": 4,
 "nbformat_minor": 5
}
