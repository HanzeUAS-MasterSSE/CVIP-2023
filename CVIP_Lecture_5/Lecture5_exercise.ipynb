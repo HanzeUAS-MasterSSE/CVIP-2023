{
 "cells": [
  {
   "cell_type": "markdown",
   "id": "7f6cc413",
   "metadata": {},
   "source": [
    "## The Not So Funny King\n",
    "The despondent king of WhatYouSay has decided to try standup to raise his spirits. Unfortunately, rather than calling on the court jest to perform for him, he has decided he's going to be performing the jokes himself.  \n",
    "\n",
    "His one-liners are pretty awful though. \n",
    "\n",
    "\n",
    "As the king's loyal spymaster, you are in charge of rooting out dissidents and naysayers in the kingdom. The king has it in his mind that anyone not smiling or laughing throughout his routine is a traitor. It is your job to take note of these people at each performance.\n",
    "\n",
    "\n",
    "\n",
    "Rather than subject your ears to such torture, you have come up with the brilliant idea to install ~cameras~ powerful soul portals in the throne room, and write an algorithm...er...I mean, an ancient spell of the Haar-men...to detect these foul, smile-less bastards.\n",
    "Can you find some people for the king to hang for fun, er, I mean...treason?"
   ]
  },
  {
   "cell_type": "code",
   "execution_count": null,
   "id": "f5d1af76",
   "metadata": {},
   "outputs": [],
   "source": []
  }
 ],
 "metadata": {
  "kernelspec": {
   "display_name": "CVIP2022",
   "language": "python",
   "name": "cvip2022"
  },
  "language_info": {
   "codemirror_mode": {
    "name": "ipython",
    "version": 3
   },
   "file_extension": ".py",
   "mimetype": "text/x-python",
   "name": "python",
   "nbconvert_exporter": "python",
   "pygments_lexer": "ipython3",
   "version": "3.8.12"
  }
 },
 "nbformat": 4,
 "nbformat_minor": 5
}
